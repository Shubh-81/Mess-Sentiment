{
 "cells": [
  {
   "cell_type": "raw",
   "source": [
    "---\n",
    "title: \"Few-shot Sentiment Classification with Ollama, Llama2, and LangChain\"\n",
    "author: \"Shubh Agarwal (21110205)\"\n",
    "date: \"2023-12-30T00:00:00Z\"\n",
    "---"
   ],
   "metadata": {
    "collapsed": false
   },
   "id": "751a6657542abe72"
  },
  {
   "cell_type": "markdown",
   "source": [
    "  \n",
    "The cell below imports three modules from the langchain package.  \n",
    "**Ollama**: Allows us to run open source large language models (such as Llama 2) locally.  \n",
    "**CallbackManager**: A class from Langchain that manages the callbacks used during the training or inference process. It allows you to define multiple callbacks and execute them in a specific order.  \n",
    "**StreamingStdOutCallbackHandler**: A class from Langchain that defines a callback handler that prints the output to the standard output stream in real-time.  \n",
    "**FewShotPromptTemplate and PromptTemplate**: Classes from LangChain used to define reusable templates for generating prompts for few-shot learning and predictions with large language models.  \n",
    "**LLMChain**: Class from LangChain used to chain together multiple LLMs sequentially to process an input."
   ],
   "metadata": {
    "collapsed": false
   },
   "id": "34040b66d461ca3b"
  },
  {
   "cell_type": "code",
   "execution_count": 13,
   "outputs": [],
   "source": [
    "from langchain.llms import Ollama\n",
    "from langchain.callbacks.manager import CallbackManager\n",
    "from langchain.callbacks.streaming_stdout import StreamingStdOutCallbackHandler\n",
    "from langchain import FewShotPromptTemplate, PromptTemplate\n",
    "from langchain.chains import LLMChain"
   ],
   "metadata": {
    "collapsed": false,
    "ExecuteTime": {
     "end_time": "2023-12-30T15:26:46.862699Z",
     "start_time": "2023-12-30T15:26:46.858638Z"
    }
   },
   "id": "219bb466453fbcd"
  },
  {
   "cell_type": "markdown",
   "source": [
    "Initializing an Ollama LLM instance with the LLaMA-2 model and configuring it to use the StreamingStdOutCallbackHandler for streaming predictions."
   ],
   "metadata": {
    "collapsed": false
   },
   "id": "f8cde21b482d8252"
  },
  {
   "cell_type": "code",
   "execution_count": 14,
   "outputs": [],
   "source": [
    "llm = Ollama(model='llama2', callback_manager=CallbackManager([StreamingStdOutCallbackHandler()]))"
   ],
   "metadata": {
    "collapsed": false,
    "ExecuteTime": {
     "end_time": "2023-12-30T15:26:47.527612Z",
     "start_time": "2023-12-30T15:26:47.521041Z"
    }
   },
   "id": "3836ea20196932af"
  },
  {
   "cell_type": "markdown",
   "source": [
    "Defining the labelled dataset for training"
   ],
   "metadata": {
    "collapsed": false
   },
   "id": "b6b67eab392b280"
  },
  {
   "cell_type": "code",
   "execution_count": 15,
   "outputs": [],
   "source": [
    "examples = [\n",
    "    {\"phrase\": \"The mess food is delicious, and I look forward to every meal.\", \"class\": \"Alpha\"},\n",
    "    {\"phrase\": \"I find the mess food to be quite bland and uninspiring.\", \"class\": \"Beta\"},\n",
    "    {\"phrase\": \"The mess staff is attentive, and they cater to dietary preferences.\", \"class\": \"Alpha\"},\n",
    "    {\"phrase\": \"I often skip meals at the mess because the food quality is inconsistent.\", \"class\": \"Beta\"},\n",
    "    {\"phrase\": \"The variety of options in the mess menu is impressive.\", \"class\": \"Alpha\"},\n",
    "    {\"phrase\": \"I'm disappointed with the lack of vegetarian options in the mess.\", \"class\": \"Beta\"},\n",
    "    {\"phrase\": \"The mess provides a convenient and affordable dining option.\", \"class\": \"Alpha\"},\n",
    "    {\"phrase\": \"The mess food is not worth the money; I'd rather eat elsewhere.\", \"class\": \"Beta\"},\n",
    "    {\"phrase\": \"I appreciate the effort the mess puts into themed dinners.\", \"class\": \"Alpha\"},\n",
    "    {\"phrase\": \"The mess cleanliness standards need improvement.\", \"class\": \"Beta\"},\n",
    "    {\"phrase\": \"The mess desserts are a delightful way to end the meal.\", \"class\": \"Alpha\"},\n",
    "    {\"phrase\": \"The mess food makes me feel sick; I avoid it whenever I can.\", \"class\": \"Beta\"},\n",
    "    {\"phrase\": \"The mess accommodates special dietary needs well.\", \"class\": \"Alpha\"},\n",
    "    {\"phrase\": \"The mess food is repetitive, and I get tired of eating the same things.\", \"class\": \"Beta\"},\n",
    "    {\"phrase\": \"The mess atmosphere is lively and encourages socializing.\", \"class\": \"Alpha\"},\n",
    "    {\"phrase\": \"The mess food lacks freshness; it tastes like leftovers.\", \"class\": \"Beta\"},\n",
    "    {\"phrase\": \"The mess timings are convenient for my schedule.\", \"class\": \"Alpha\"},\n",
    "    {\"phrase\": \"I've had multiple instances of finding foreign objects in the mess food.\", \"class\": \"Beta\"},\n",
    "    {\"phrase\": \"The mess food caters to a diverse range of tastes.\", \"class\": \"Alpha\"},\n",
    "    {\"phrase\": \"The mess portion sizes are too small; I'm often left hungry.\", \"class\": \"Beta\"},\n",
    "    {\"phrase\": \"I enjoy the cultural diversity reflected in the mess cuisine.\", \"class\": \"Alpha\"},\n",
    "    {\"phrase\": \"The mess food is overpriced for its quality.\", \"class\": \"Beta\"},\n",
    "    {\"phrase\": \"The mess hygiene standards are commendable.\", \"class\": \"Alpha\"},\n",
    "    {\"phrase\": \"The mess food lacks nutritional value.\", \"class\": \"Beta\"},\n",
    "    {\"phrase\": \"The mess offers a good balance between healthy and indulgent options.\", \"class\": \"Alpha\"},\n",
    "    {\"phrase\": \"I can't stand the taste of the mess food; it's unbearable.\", \"class\": \"Beta\"},\n",
    "    {\"phrase\": \"The mess takes feedback seriously and makes improvements.\", \"class\": \"Alpha\"},\n",
    "    {\"phrase\": \"The mess service is slow, and I don't have time to wait.\", \"class\": \"Beta\"},\n",
    "    {\"phrase\": \"The mess caters to different dietary preferences, including jain options.\", \"class\": \"Alpha\"},\n",
    "    {\"phrase\": \"The mess food is too oily; it affects my health negatively.\", \"class\": \"Beta\"},\n",
    "]"
   ],
   "metadata": {
    "collapsed": false,
    "ExecuteTime": {
     "end_time": "2023-12-30T15:26:48.635093Z",
     "start_time": "2023-12-30T15:26:48.631464Z"
    }
   },
   "id": "bfa13842228b21de"
  },
  {
   "cell_type": "markdown",
   "source": [
    "Defining a template called example_template that can be used to format labeled examples for few-shot learning in Jinja2 format."
   ],
   "metadata": {
    "collapsed": false
   },
   "id": "868797708955640d"
  },
  {
   "cell_type": "code",
   "execution_count": 16,
   "outputs": [],
   "source": [
    "example_template = \"\"\"\n",
    "{{phrase}}\n",
    "Class: {{class}}\n",
    "\"\"\""
   ],
   "metadata": {
    "collapsed": false,
    "ExecuteTime": {
     "end_time": "2023-12-30T15:26:49.586596Z",
     "start_time": "2023-12-30T15:26:49.579216Z"
    }
   },
   "id": "9d1a341836c5a952"
  },
  {
   "cell_type": "markdown",
   "source": [
    "Creating a PromptTemplate from the example_template defined previously, specifying that the template uses Jinja2 syntax."
   ],
   "metadata": {
    "collapsed": false
   },
   "id": "80d2dc9bb73fbfb2"
  },
  {
   "cell_type": "code",
   "execution_count": 17,
   "outputs": [],
   "source": [
    "prompt = PromptTemplate.from_template(example_template, template_format='jinja2')"
   ],
   "metadata": {
    "collapsed": false,
    "ExecuteTime": {
     "end_time": "2023-12-30T15:26:50.576368Z",
     "start_time": "2023-12-30T15:26:50.571079Z"
    }
   },
   "id": "ba77ddff05bed598"
  },
  {
   "cell_type": "markdown",
   "source": [
    "Defining a FewShotPromptTemplate using the previous PromptTemplate to format the examples.\n",
    "\n",
    "The following arguments are given:-  \n",
    "**examples** - Provides the examples to use  \n",
    "**example_prompt** - The PromptTemplate to format each example  \n",
    "**prefix** - Text before the examples to describe the task  \n",
    "**suffix** - Text after the examples to prompt for a prediction  \n",
    "**input_variables** - Variables that will be filled later ({input})  \n",
    "**example_separator** - Separator between each example  "
   ],
   "metadata": {
    "collapsed": false
   },
   "id": "a0c5cad2f959b147"
  },
  {
   "cell_type": "code",
   "execution_count": 18,
   "outputs": [],
   "source": [
    "few_shot_prompt = FewShotPromptTemplate(\n",
    "    examples=examples,\n",
    "    example_prompt=prompt,\n",
    "    prefix=\"Few-shot classification, only provide one word answer, no explanation needed.\",\n",
    "    suffix=\"Find the class of this phrase: {input}, based on the previous examples.\",\n",
    "    input_variables=[\"input\"],\n",
    "    example_separator=\"\\n\\n\",\n",
    ")"
   ],
   "metadata": {
    "collapsed": false,
    "ExecuteTime": {
     "end_time": "2023-12-30T15:26:51.638752Z",
     "start_time": "2023-12-30T15:26:51.636089Z"
    }
   },
   "id": "fd9b049cbb499566"
  },
  {
   "cell_type": "markdown",
   "source": [
    "This shows a sample of the prompt generated using the format defined above."
   ],
   "metadata": {
    "collapsed": false
   },
   "id": "487df06cabfca51"
  },
  {
   "cell_type": "code",
   "execution_count": 19,
   "outputs": [
    {
     "name": "stdout",
     "output_type": "stream",
     "text": [
      "Few-shot classification, only provide one word answer, no explanation needed.\n",
      "\n",
      "\n",
      "The mess food is delicious, and I look forward to every meal.\n",
      "Class: Alpha\n",
      "\n",
      "\n",
      "I find the mess food to be quite bland and uninspiring.\n",
      "Class: Beta\n",
      "\n",
      "\n",
      "The mess staff is attentive, and they cater to dietary preferences.\n",
      "Class: Alpha\n",
      "\n",
      "\n",
      "I often skip meals at the mess because the food quality is inconsistent.\n",
      "Class: Beta\n",
      "\n",
      "\n",
      "The variety of options in the mess menu is impressive.\n",
      "Class: Alpha\n",
      "\n",
      "\n",
      "I'm disappointed with the lack of vegetarian options in the mess.\n",
      "Class: Beta\n",
      "\n",
      "\n",
      "The mess provides a convenient and affordable dining option.\n",
      "Class: Alpha\n",
      "\n",
      "\n",
      "The mess food is not worth the money; I'd rather eat elsewhere.\n",
      "Class: Beta\n",
      "\n",
      "\n",
      "I appreciate the effort the mess puts into themed dinners.\n",
      "Class: Alpha\n",
      "\n",
      "\n",
      "The mess cleanliness standards need improvement.\n",
      "Class: Beta\n",
      "\n",
      "\n",
      "The mess desserts are a delightful way to end the meal.\n",
      "Class: Alpha\n",
      "\n",
      "\n",
      "The mess food makes me feel sick; I avoid it whenever I can.\n",
      "Class: Beta\n",
      "\n",
      "\n",
      "The mess accommodates special dietary needs well.\n",
      "Class: Alpha\n",
      "\n",
      "\n",
      "The mess food is repetitive, and I get tired of eating the same things.\n",
      "Class: Beta\n",
      "\n",
      "\n",
      "The mess atmosphere is lively and encourages socializing.\n",
      "Class: Alpha\n",
      "\n",
      "\n",
      "The mess food lacks freshness; it tastes like leftovers.\n",
      "Class: Beta\n",
      "\n",
      "\n",
      "The mess timings are convenient for my schedule.\n",
      "Class: Alpha\n",
      "\n",
      "\n",
      "I've had multiple instances of finding foreign objects in the mess food.\n",
      "Class: Beta\n",
      "\n",
      "\n",
      "The mess food caters to a diverse range of tastes.\n",
      "Class: Alpha\n",
      "\n",
      "\n",
      "The mess portion sizes are too small; I'm often left hungry.\n",
      "Class: Beta\n",
      "\n",
      "\n",
      "I enjoy the cultural diversity reflected in the mess cuisine.\n",
      "Class: Alpha\n",
      "\n",
      "\n",
      "The mess food is overpriced for its quality.\n",
      "Class: Beta\n",
      "\n",
      "\n",
      "The mess hygiene standards are commendable.\n",
      "Class: Alpha\n",
      "\n",
      "\n",
      "The mess food lacks nutritional value.\n",
      "Class: Beta\n",
      "\n",
      "\n",
      "The mess offers a good balance between healthy and indulgent options.\n",
      "Class: Alpha\n",
      "\n",
      "\n",
      "I can't stand the taste of the mess food; it's unbearable.\n",
      "Class: Beta\n",
      "\n",
      "\n",
      "The mess takes feedback seriously and makes improvements.\n",
      "Class: Alpha\n",
      "\n",
      "\n",
      "The mess service is slow, and I don't have time to wait.\n",
      "Class: Beta\n",
      "\n",
      "\n",
      "The mess caters to different dietary preferences, including jain options.\n",
      "Class: Alpha\n",
      "\n",
      "\n",
      "The mess food is too oily; it affects my health negatively.\n",
      "Class: Beta\n",
      "\n",
      "Find the class of this phrase: I eat the mess food only because I don't have any other option, based on the previous examples.\n"
     ]
    }
   ],
   "source": [
    "print(few_shot_prompt.format(input=\"I eat the mess food only because I don't have any other option\"))"
   ],
   "metadata": {
    "collapsed": false,
    "ExecuteTime": {
     "end_time": "2023-12-30T15:26:52.627009Z",
     "start_time": "2023-12-30T15:26:52.623892Z"
    }
   },
   "id": "2156a425c3c1732"
  },
  {
   "cell_type": "markdown",
   "source": [
    "Creating an LLMChain with a single LLM (llm) and sets the prompt to the few_shot_prompt we defined earlier."
   ],
   "metadata": {
    "collapsed": false
   },
   "id": "5b4bb94b1dc68df1"
  },
  {
   "cell_type": "code",
   "execution_count": 20,
   "outputs": [],
   "source": [
    "chain = LLMChain(llm=llm, prompt=few_shot_prompt)"
   ],
   "metadata": {
    "collapsed": false,
    "ExecuteTime": {
     "end_time": "2023-12-30T15:26:53.845514Z",
     "start_time": "2023-12-30T15:26:53.840482Z"
    }
   },
   "id": "430953fc27fb2a63"
  },
  {
   "cell_type": "markdown",
   "source": [
    "Passing the input sentence to the predict method of our pre-configured LLMChain. This chain encapsulated the few-shot learning prompt we had defined earlier using a FewShotPromptTemplate, including the formatted examples and task description."
   ],
   "metadata": {
    "collapsed": false
   },
   "id": "da1668fca3acb119"
  },
  {
   "cell_type": "code",
   "execution_count": 29,
   "outputs": [
    {
     "name": "stdout",
     "output_type": "stream",
     "text": [
      "Class: Beta"
     ]
    },
    {
     "data": {
      "text/plain": "'Class: Beta'"
     },
     "execution_count": 29,
     "metadata": {},
     "output_type": "execute_result"
    }
   ],
   "source": [
    "chain.predict(input=\"I eat the mess food only because I don't have any other option.\")"
   ],
   "metadata": {
    "collapsed": false,
    "ExecuteTime": {
     "end_time": "2023-12-30T15:43:03.238507Z",
     "start_time": "2023-12-30T15:42:55.596592Z"
    }
   },
   "id": "cce608f80d0ae5eb"
  },
  {
   "cell_type": "code",
   "execution_count": 35,
   "outputs": [
    {
     "name": "stdout",
     "output_type": "stream",
     "text": [
      "Alpha"
     ]
    },
    {
     "data": {
      "text/plain": "'Alpha'"
     },
     "execution_count": 35,
     "metadata": {},
     "output_type": "execute_result"
    }
   ],
   "source": [
    "chain.predict(input=\"The mess consistently impresses with delicious food, attentive staff, and a welcoming atmosphere.\")"
   ],
   "metadata": {
    "collapsed": false,
    "ExecuteTime": {
     "end_time": "2023-12-30T16:11:26.007005Z",
     "start_time": "2023-12-30T16:11:16.160982Z"
    }
   },
   "id": "5d60badfd2fe1e25"
  },
  {
   "cell_type": "code",
   "execution_count": 23,
   "outputs": [
    {
     "name": "stdout",
     "output_type": "stream",
     "text": [
      "Alpha"
     ]
    },
    {
     "data": {
      "text/plain": "'Alpha'"
     },
     "execution_count": 23,
     "metadata": {},
     "output_type": "execute_result"
    }
   ],
   "source": [
    "chain.predict(input=\"The mess food, while sometimes lacking in variety, manages to surprise my taste buds with unexpected flavors\")"
   ],
   "metadata": {
    "collapsed": false,
    "ExecuteTime": {
     "end_time": "2023-12-30T15:36:41.849152Z",
     "start_time": "2023-12-30T15:36:27.630617Z"
    }
   },
   "id": "906ca0cbbb934cf9"
  },
  {
   "cell_type": "code",
   "execution_count": 33,
   "outputs": [
    {
     "name": "stdout",
     "output_type": "stream",
     "text": [
      "Alpha"
     ]
    },
    {
     "data": {
      "text/plain": "'Alpha'"
     },
     "execution_count": 33,
     "metadata": {},
     "output_type": "execute_result"
    }
   ],
   "source": [
    "chain.predict(input=\"I appreciate the mess staff's dedication to cleanliness and hygiene standards, but the taste of the food is hit-or-miss.\")"
   ],
   "metadata": {
    "collapsed": false,
    "ExecuteTime": {
     "end_time": "2023-12-30T16:08:41.911954Z",
     "start_time": "2023-12-30T16:08:27.665506Z"
    }
   },
   "id": "14af12819e0ee3d5"
  },
  {
   "cell_type": "code",
   "execution_count": 34,
   "outputs": [
    {
     "name": "stdout",
     "output_type": "stream",
     "text": [
      "Class: Beta"
     ]
    },
    {
     "data": {
      "text/plain": "'Class: Beta'"
     },
     "execution_count": 34,
     "metadata": {},
     "output_type": "execute_result"
    }
   ],
   "source": [
    "chain.predict(input=\"I appreciate the mess staff's dedication to cleanliness and hygiene standards, but the taste of the food is hit-or-miss.\")"
   ],
   "metadata": {
    "collapsed": false,
    "ExecuteTime": {
     "end_time": "2023-12-30T16:08:52.509246Z",
     "start_time": "2023-12-30T16:08:44.610916Z"
    }
   },
   "id": "1f6c2b783d889d33"
  },
  {
   "cell_type": "code",
   "execution_count": 25,
   "outputs": [
    {
     "name": "stdout",
     "output_type": "stream",
     "text": [
      "Alpha"
     ]
    },
    {
     "data": {
      "text/plain": "'Alpha'"
     },
     "execution_count": 25,
     "metadata": {},
     "output_type": "execute_result"
    }
   ],
   "source": [
    "chain.predict(input=\"The mess desserts are usually a delightful way to end the meal, but occasionally, there's a letdown in terms of freshness.\")"
   ],
   "metadata": {
    "collapsed": false,
    "ExecuteTime": {
     "end_time": "2023-12-30T15:37:51.609763Z",
     "start_time": "2023-12-30T15:37:41.327725Z"
    }
   },
   "id": "e9e0764bcea49f16"
  },
  {
   "cell_type": "code",
   "execution_count": 30,
   "outputs": [
    {
     "name": "stdout",
     "output_type": "stream",
     "text": [
      "Class: Beta"
     ]
    },
    {
     "data": {
      "text/plain": "'Class: Beta'"
     },
     "execution_count": 30,
     "metadata": {},
     "output_type": "execute_result"
    }
   ],
   "source": [
    "chain.predict(input=\"The mess food is kind of dull, not much to rave about. It's like a flavor snooze-fest.\")"
   ],
   "metadata": {
    "collapsed": false,
    "ExecuteTime": {
     "end_time": "2023-12-30T15:54:34.473708Z",
     "start_time": "2023-12-30T15:54:19.944746Z"
    }
   },
   "id": "fb801859040bab2b"
  },
  {
   "cell_type": "code",
   "execution_count": 31,
   "outputs": [
    {
     "name": "stdout",
     "output_type": "stream",
     "text": [
      "Alpha"
     ]
    },
    {
     "data": {
      "text/plain": "'Alpha'"
     },
     "execution_count": 31,
     "metadata": {},
     "output_type": "execute_result"
    }
   ],
   "source": [
    "chain.predict(input=\"The mess food is like a daily surprise party for my taste buds—unpredictable and not always in a good way. Bon appétit, or should I say, bon chance!\")"
   ],
   "metadata": {
    "collapsed": false,
    "ExecuteTime": {
     "end_time": "2023-12-30T15:55:40.904820Z",
     "start_time": "2023-12-30T15:55:31.046648Z"
    }
   },
   "id": "880d1b5fdc30fcf7"
  },
  {
   "cell_type": "code",
   "execution_count": 32,
   "outputs": [
    {
     "name": "stdout",
     "output_type": "stream",
     "text": [
      "Class: Beta"
     ]
    },
    {
     "data": {
      "text/plain": "'Class: Beta'"
     },
     "execution_count": 32,
     "metadata": {},
     "output_type": "execute_result"
    }
   ],
   "source": [
    "chain.predict(input=\"The mess food is a real adventure in mediocrity. It's like they have a secret mission to make every dish taste just okay. \")"
   ],
   "metadata": {
    "collapsed": false,
    "ExecuteTime": {
     "end_time": "2023-12-30T15:56:28.517032Z",
     "start_time": "2023-12-30T15:56:18.306364Z"
    }
   },
   "id": "a344a5cc6fba0fc4"
  },
  {
   "cell_type": "markdown",
   "source": [
    "The evaluation of the llama2 model on the provided examples indicates a robust understanding of classifying phrases into distinct categories. However, challenges emerge in instances where there's a mixture of positive and negative sentiments within a single statement. For example, in the phrase \"I appreciate the mess staff's dedication to cleanliness and hygiene standards, but the taste of the food is hit-or-miss.\" the model exhibits variability in its predictions across repeated trials.    \n",
    "Moreover, the model faces difficulty in accurately classifying sarcastic expressions, as evident in the statement: \"The mess food is like a daily surprise party for my taste buds—unpredictable and not always in a good way. Bon appétit, or should I say, bon chance!\" Sarcasm, with its nuanced and ironic tone, appears to pose a challenge for the model's classification accuracy.    \n",
    "These observations suggest that while the llama2 model demonstrates a commendable grasp of classifying sentiment, improvements may be needed to handle cases of mixed sentiments and nuances in sarcastic expressions."
   ],
   "metadata": {
    "collapsed": false
   },
   "id": "18cc343ea171d99b"
  },
  {
   "cell_type": "code",
   "execution_count": null,
   "outputs": [],
   "source": [],
   "metadata": {
    "collapsed": false
   },
   "id": "7e230a2ed2e64d90"
  }
 ],
 "metadata": {
  "kernelspec": {
   "display_name": "Python 3",
   "language": "python",
   "name": "python3"
  },
  "language_info": {
   "codemirror_mode": {
    "name": "ipython",
    "version": 2
   },
   "file_extension": ".py",
   "mimetype": "text/x-python",
   "name": "python",
   "nbconvert_exporter": "python",
   "pygments_lexer": "ipython2",
   "version": "2.7.6"
  }
 },
 "nbformat": 4,
 "nbformat_minor": 5
}
